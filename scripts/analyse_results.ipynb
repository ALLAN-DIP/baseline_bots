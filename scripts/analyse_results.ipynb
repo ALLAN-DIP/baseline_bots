{
 "cells": [
  {
   "cell_type": "code",
   "execution_count": 9,
   "metadata": {},
   "outputs": [
    {
     "name": "stdout",
     "output_type": "stream",
     "text": [
      "\r\n",
      "CommandNotFoundError: Your shell has not been properly configured to use 'conda activate'.\r\n",
      "To initialize your shell, run\r\n",
      "\r\n",
      "    $ conda init <SHELL_NAME>\r\n",
      "\r\n",
      "Currently supported shells are:\r\n",
      "  - bash\r\n",
      "  - fish\r\n",
      "  - tcsh\r\n",
      "  - xonsh\r\n",
      "  - zsh\r\n",
      "  - powershell\r\n",
      "\r\n",
      "See 'conda init --help' for more information and options.\r\n",
      "\r\n",
      "IMPORTANT: You may need to close and restart your shell after running 'conda init'.\r\n",
      "\r\n",
      "\r\n"
     ]
    }
   ],
   "source": [
    "import json\n",
    "import os\n",
    "from collections import defaultdict\n",
    "import pandas as pd\n",
    "from tqdm import tqdm\n",
    "from datetime import datetime\n",
    "\n",
    "today = datetime.today()\n",
    "suffix = today.strftime(\"%Y_%m_%d-%H:%M:%S\")"
   ]
  },
  {
   "cell_type": "code",
   "execution_count": 1,
   "metadata": {},
   "outputs": [
    {
     "ename": "ModuleNotFoundError",
     "evalue": "No module named 'tqdm'",
     "output_type": "error",
     "traceback": [
      "\u001b[0;31m---------------------------------------------------------------------------\u001b[0m",
      "\u001b[0;31mModuleNotFoundError\u001b[0m                       Traceback (most recent call last)",
      "\u001b[0;32m<ipython-input-1-2ba1402a1c7c>\u001b[0m in \u001b[0;36m<module>\u001b[0;34m\u001b[0m\n\u001b[1;32m      3\u001b[0m \u001b[0;32mfrom\u001b[0m \u001b[0mcollections\u001b[0m \u001b[0;32mimport\u001b[0m \u001b[0mdefaultdict\u001b[0m\u001b[0;34m\u001b[0m\u001b[0m\n\u001b[1;32m      4\u001b[0m \u001b[0;32mimport\u001b[0m \u001b[0mpandas\u001b[0m \u001b[0;32mas\u001b[0m \u001b[0mpd\u001b[0m\u001b[0;34m\u001b[0m\u001b[0m\n\u001b[0;32m----> 5\u001b[0;31m \u001b[0;32mfrom\u001b[0m \u001b[0mtqdm\u001b[0m \u001b[0;32mimport\u001b[0m \u001b[0mtqdm\u001b[0m\u001b[0;34m\u001b[0m\u001b[0m\n\u001b[0m\u001b[1;32m      6\u001b[0m \u001b[0;32mfrom\u001b[0m \u001b[0mdatetime\u001b[0m \u001b[0;32mimport\u001b[0m \u001b[0mdatetime\u001b[0m\u001b[0;34m\u001b[0m\u001b[0m\n\u001b[1;32m      7\u001b[0m \u001b[0;34m\u001b[0m\u001b[0m\n",
      "\u001b[0;31mModuleNotFoundError\u001b[0m: No module named 'tqdm'"
     ]
    }
   ],
   "source": [
    "import json\n",
    "import os\n",
    "from collections import defaultdict\n",
    "import pandas as pd\n",
    "from tqdm import tqdm\n",
    "from datetime import datetime\n",
    "\n",
    "today = datetime.today()\n",
    "suffix = today.strftime(\"%Y_%m_%d-%H:%M:%S\")"
   ]
  },
  {
   "cell_type": "code",
   "execution_count": null,
   "metadata": {},
   "outputs": [],
   "source": [
    "parent_analysis = []"
   ]
  },
  {
   "cell_type": "markdown",
   "metadata": {},
   "source": [
    "# Common Code"
   ]
  },
  {
   "cell_type": "code",
   "execution_count": 13,
   "metadata": {},
   "outputs": [],
   "source": [
    "def execute_scenario(pows, types, file, runname, parent_analysis, bypass_exec=False, game_play_count = 100):\n",
    "    file = \"GameAnalysisFiles/\" + file\n",
    "    if not bypass_exec:\n",
    "        os.system(f\"rm {file}\")\n",
    "\n",
    "        for _ in tqdm(range(game_play_count)):\n",
    "            cmd = f\"python ../analysis_bot_v2.py -p {pows} -t {types} -f {file}\"\n",
    "            os.system(cmd)\n",
    "\n",
    "    power_total_wins = defaultdict(int)\n",
    "    power_solo_wins = defaultdict(int)\n",
    "    power_shared_wins = defaultdict(int)\n",
    "    power_solo_durations = defaultdict(int)\n",
    "    power_shared_durations = defaultdict(int)\n",
    "\n",
    "    no_of_games = 0\n",
    "    with open(file) as f:\n",
    "        for line in f:\n",
    "            game = json.loads(line)\n",
    "            winners = [pow1.strip() for pow1 in game['phases'][-1]['state']['note'].split(\":\")[-1].split(\",\")]\n",
    "            for pow1 in winners:\n",
    "                power_total_wins[pow1] += 1\n",
    "            if len(winners) == 1:\n",
    "                power_solo_wins[winners[0]] += 1\n",
    "                power_solo_durations[winners[0]] += int(game['phases'][-2]['name'][1:-1]) - 1900\n",
    "            else:\n",
    "                for pow1 in winners:\n",
    "                    power_shared_wins[pow1] += 1\n",
    "                    power_shared_durations[pow1] += int(game['phases'][-2]['name'][1:-1]) - 1900\n",
    "    for pow1 in power_solo_durations:\n",
    "        power_solo_durations[pow1] /= power_solo_wins[pow1]\n",
    "    for pow1 in power_shared_durations:\n",
    "        power_shared_durations[pow1] /= power_shared_wins[pow1]\n",
    "        \n",
    "    parent_analysis.append((runname, power_total_wins, power_solo_wins, power_shared_wins, power_solo_durations, power_shared_durations))"
   ]
  },
  {
   "cell_type": "markdown",
   "metadata": {},
   "source": [
    "# Random No Press Game Results"
   ]
  },
  {
   "cell_type": "code",
   "execution_count": 19,
   "metadata": {},
   "outputs": [],
   "source": [
    "# pows = 'ENGLAND,AUSTRIA,ITALY,FRANCE,GERMANY,RUSSIA,TURKEY'\n",
    "# types = 'np,np,np,np,np,np,np'\n",
    "# file = \"Random_NoPress_BotGame\" + suffix + \".json\"\n",
    "\n",
    "# os.system(f\"rm ./GameAnalysisFiles/{file}\")\n",
    "\n",
    "# for _ in tqdm(range(game_play_count)):\n",
    "#     os.system(f\"python ../analysis_bot_v2.py -p {pows} -t {types} -f {file}\")\n",
    "\n",
    "# power_wins = defaultdict(int)\n",
    "# comb_wins = defaultdict(int)\n",
    "# winner_counts = defaultdict(int)\n",
    "# no_of_games = 0\n",
    "# with open(file)  as f:\n",
    "#     for line in f:\n",
    "#         game = json.loads(line)\n",
    "#         pow_win = [pow1.strip() for pow1 in game['phases'][-1]['state']['note'].split(\":\")[-1].split(\",\")]\n",
    "#         comb_wins[\",\".join(pow_win)] += 1\n",
    "#         winner_counts[len(pow_win)] += 1\n",
    "#         for pow1 in pow_win:\n",
    "#             power_wins[pow1] += 1\n",
    "#         no_of_games += 1\n",
    "\n",
    "# for pow1 in power_wins:\n",
    "#     power_wins[pow1] /= no_of_games"
   ]
  },
  {
   "cell_type": "code",
   "execution_count": 20,
   "metadata": {},
   "outputs": [
    {
     "name": "stderr",
     "output_type": "stream",
     "text": [
      "100%|██████████| 100/100 [09:18<00:00,  5.59s/it]\n"
     ]
    }
   ],
   "source": [
    "pows = 'ENGLAND,AUSTRIA,ITALY,FRANCE,GERMANY,RUSSIA,TURKEY'\n",
    "types = 'np,np,np,np,np,np,np'\n",
    "file = \"Random_NoPress_BotGame_\" + suffix + \".json\"\n",
    "runname = 'random_np'\n",
    "\n",
    "execute_scenario(pows, types, file, runname, parent_analysis)"
   ]
  },
  {
   "cell_type": "markdown",
   "metadata": {},
   "source": [
    "# SLP 2 bot game plays"
   ]
  },
  {
   "cell_type": "markdown",
   "metadata": {},
   "source": [
    "## Germany and Italy"
   ]
  },
  {
   "cell_type": "code",
   "execution_count": 21,
   "metadata": {},
   "outputs": [
    {
     "name": "stderr",
     "output_type": "stream",
     "text": [
      "100%|██████████| 100/100 [04:11<00:00,  2.51s/it]\n"
     ]
    }
   ],
   "source": [
    "pows = 'ENGLAND,AUSTRIA,ITALY,FRANCE,GERMANY,RUSSIA,TURKEY'\n",
    "types = 'np,np,lsp,np,lspm,np,np'\n",
    "file = \"Random_LSP_VS_NP_GERM_ITALY_BotGame_\" + suffix + \".json\"\n",
    "runname = 'Germ_Ital_LSP'\n",
    "\n",
    "execute_scenario(pows, types, file, runname, parent_analysis)"
   ]
  },
  {
   "cell_type": "markdown",
   "metadata": {},
   "source": [
    "## Germany and Russia"
   ]
  },
  {
   "cell_type": "code",
   "execution_count": 22,
   "metadata": {},
   "outputs": [
    {
     "name": "stderr",
     "output_type": "stream",
     "text": [
      "100%|██████████| 100/100 [04:21<00:00,  2.62s/it]\n"
     ]
    }
   ],
   "source": [
    "pows = 'ENGLAND,AUSTRIA,ITALY,FRANCE,GERMANY,RUSSIA,TURKEY'\n",
    "types = 'np,np,np,np,lsp,lspm,np'\n",
    "file = \"Random_LSP_VS_NP_RUSS_GERM_BotGame_\" + suffix + \".json\"\n",
    "runname = 'Russ_Germ_LSP'\n",
    "\n",
    "execute_scenario(pows, types, file, runname, parent_analysis)"
   ]
  },
  {
   "cell_type": "markdown",
   "metadata": {},
   "source": [
    "## Austria and Italy"
   ]
  },
  {
   "cell_type": "code",
   "execution_count": 23,
   "metadata": {},
   "outputs": [
    {
     "name": "stderr",
     "output_type": "stream",
     "text": [
      "100%|██████████| 100/100 [04:36<00:00,  2.76s/it]\n"
     ]
    }
   ],
   "source": [
    "pows = 'ENGLAND,AUSTRIA,ITALY,FRANCE,GERMANY,RUSSIA,TURKEY'\n",
    "types = 'np,lspm,lsp,np,np,np,np'\n",
    "file = \"Random_LSP_VS_NP_AUS_ITA_BotGame_\" + suffix + \".json\"\n",
    "runname = 'Aus_Ita_LSP'\n",
    "\n",
    "execute_scenario(pows, types, file, runname, parent_analysis)"
   ]
  },
  {
   "cell_type": "markdown",
   "metadata": {},
   "source": [
    "## England and France"
   ]
  },
  {
   "cell_type": "code",
   "execution_count": 24,
   "metadata": {},
   "outputs": [
    {
     "name": "stderr",
     "output_type": "stream",
     "text": [
      "100%|██████████| 100/100 [05:33<00:00,  3.34s/it]\n"
     ]
    }
   ],
   "source": [
    "pows = 'ENGLAND,AUSTRIA,ITALY,FRANCE,GERMANY,RUSSIA,TURKEY'\n",
    "types = 'lspm,np,np,lsp,np,np,np'\n",
    "file = \"Random_LSP_VS_NP_ENG_FRA_BotGame_\" + suffix + \".json\"\n",
    "runname = 'Eng_Fra_LSP'\n",
    "\n",
    "execute_scenario(pows, types, file, runname, parent_analysis)"
   ]
  },
  {
   "cell_type": "markdown",
   "metadata": {},
   "source": [
    "## England and Austria"
   ]
  },
  {
   "cell_type": "code",
   "execution_count": 25,
   "metadata": {},
   "outputs": [
    {
     "name": "stderr",
     "output_type": "stream",
     "text": [
      "100%|██████████| 100/100 [03:20<00:00,  2.01s/it]\n"
     ]
    }
   ],
   "source": [
    "pows = 'ENGLAND,AUSTRIA,ITALY,FRANCE,GERMANY,RUSSIA,TURKEY'\n",
    "types = 'lspm,lsp,np,np,np,np,np'\n",
    "file = \"Random_LSP_VS_NP_ENG_AUS_BotGame_\" + suffix + \".json\"\n",
    "runname = 'Eng_Aus_LSP'\n",
    "\n",
    "execute_scenario(pows, types, file, runname, parent_analysis)"
   ]
  },
  {
   "cell_type": "markdown",
   "metadata": {},
   "source": [
    "# England and Turkey"
   ]
  },
  {
   "cell_type": "code",
   "execution_count": 26,
   "metadata": {},
   "outputs": [
    {
     "name": "stderr",
     "output_type": "stream",
     "text": [
      "100%|██████████| 100/100 [09:33<00:00,  5.74s/it]\n"
     ]
    }
   ],
   "source": [
    "pows = 'ENGLAND,AUSTRIA,ITALY,FRANCE,GERMANY,RUSSIA,TURKEY'\n",
    "types = 'lspm,np,np,np,np,np,lsp'\n",
    "file = \"Random_LSP_VS_NP_ENG_TUR_BotGame_\" + suffix + \".json\"\n",
    "runname = 'Eng_Tur_LSP'\n",
    "\n",
    "execute_scenario(pows, types, file, runname, parent_analysis)"
   ]
  },
  {
   "cell_type": "markdown",
   "metadata": {},
   "source": [
    "# Turkey and England"
   ]
  },
  {
   "cell_type": "code",
   "execution_count": 27,
   "metadata": {},
   "outputs": [
    {
     "name": "stderr",
     "output_type": "stream",
     "text": [
      "100%|██████████| 100/100 [08:27<00:00,  5.08s/it]\n"
     ]
    }
   ],
   "source": [
    "pows = 'ENGLAND,AUSTRIA,ITALY,FRANCE,GERMANY,RUSSIA,TURKEY'\n",
    "types = 'lsp,np,np,np,np,np,lspm'\n",
    "file = \"Random_LSP_VS_NP_TUR_ENG_BotGame_\" + suffix + \".json\"\n",
    "runname = 'Tur_Eng_LSP'\n",
    "\n",
    "execute_scenario(pows, types, file, runname, parent_analysis)"
   ]
  },
  {
   "cell_type": "markdown",
   "metadata": {},
   "source": [
    "# Summary"
   ]
  },
  {
   "cell_type": "code",
   "execution_count": 28,
   "metadata": {
    "scrolled": false
   },
   "outputs": [
    {
     "data": {
      "text/plain": [
       "[('random_np',\n",
       "  defaultdict(int,\n",
       "              {'AUS': 52,\n",
       "               'ENG': 44,\n",
       "               'GER': 43,\n",
       "               'ITA': 36,\n",
       "               'RUS': 59,\n",
       "               'FRA': 52,\n",
       "               'TUR': 53}),\n",
       "  defaultdict(int,\n",
       "              {'AUS': 14, 'TUR': 1, 'GER': 4, 'FRA': 3, 'ITA': 1, 'RUS': 15}),\n",
       "  defaultdict(int,\n",
       "              {'AUS': 38,\n",
       "               'ENG': 44,\n",
       "               'GER': 39,\n",
       "               'ITA': 35,\n",
       "               'RUS': 44,\n",
       "               'FRA': 49,\n",
       "               'TUR': 52}),\n",
       "  defaultdict(int,\n",
       "              {'AUS': 74.28571428571429,\n",
       "               'TUR': 85.0,\n",
       "               'GER': 62.25,\n",
       "               'FRA': 76.66666666666667,\n",
       "               'ITA': 69.0,\n",
       "               'RUS': 62.2}),\n",
       "  defaultdict(int,\n",
       "              {'AUS': 100.0,\n",
       "               'ENG': 100.0,\n",
       "               'GER': 100.0,\n",
       "               'ITA': 100.0,\n",
       "               'RUS': 100.0,\n",
       "               'FRA': 100.0,\n",
       "               'TUR': 100.0})),\n",
       " ('Germ_Ital_LSP',\n",
       "  defaultdict(int, {'GER': 77, 'ITA': 23}),\n",
       "  defaultdict(int, {'GER': 77, 'ITA': 23}),\n",
       "  defaultdict(int, {}),\n",
       "  defaultdict(int, {'GER': 34.1948051948052, 'ITA': 42.608695652173914}),\n",
       "  defaultdict(int, {})),\n",
       " ('Russ_Germ_LSP',\n",
       "  defaultdict(int, {'RUS': 51, 'GER': 49}),\n",
       "  defaultdict(int, {'RUS': 51, 'GER': 49}),\n",
       "  defaultdict(int, {}),\n",
       "  defaultdict(int, {'RUS': 31.19607843137255, 'GER': 31.285714285714285}),\n",
       "  defaultdict(int, {})),\n",
       " ('Aus_Ita_LSP',\n",
       "  defaultdict(int, {'AUS': 89, 'ITA': 11, 'RUS': 3, 'FRA': 1, 'TUR': 1}),\n",
       "  defaultdict(int, {'AUS': 88, 'ITA': 9, 'RUS': 1}),\n",
       "  defaultdict(int, {'AUS': 1, 'ITA': 2, 'RUS': 2, 'FRA': 1, 'TUR': 1}),\n",
       "  defaultdict(int,\n",
       "              {'AUS': 31.84090909090909,\n",
       "               'ITA': 60.111111111111114,\n",
       "               'RUS': 71.0}),\n",
       "  defaultdict(int,\n",
       "              {'AUS': 100.0,\n",
       "               'ITA': 100.0,\n",
       "               'RUS': 100.0,\n",
       "               'FRA': 100.0,\n",
       "               'TUR': 100.0})),\n",
       " ('Eng_Fra_LSP',\n",
       "  defaultdict(int,\n",
       "              {'FRA': 97,\n",
       "               'AUS': 6,\n",
       "               'ENG': 6,\n",
       "               'RUS': 2,\n",
       "               'TUR': 6,\n",
       "               'GER': 2,\n",
       "               'ITA': 1}),\n",
       "  defaultdict(int, {'FRA': 91, 'AUS': 2, 'RUS': 1}),\n",
       "  defaultdict(int,\n",
       "              {'ENG': 6,\n",
       "               'FRA': 6,\n",
       "               'RUS': 1,\n",
       "               'TUR': 6,\n",
       "               'AUS': 4,\n",
       "               'GER': 2,\n",
       "               'ITA': 1}),\n",
       "  defaultdict(int, {'FRA': 45.16483516483517, 'AUS': 65.0, 'RUS': 33.0}),\n",
       "  defaultdict(int,\n",
       "              {'ENG': 100.0,\n",
       "               'FRA': 100.0,\n",
       "               'RUS': 100.0,\n",
       "               'TUR': 100.0,\n",
       "               'AUS': 100.0,\n",
       "               'GER': 100.0,\n",
       "               'ITA': 100.0})),\n",
       " ('Eng_Aus_LSP',\n",
       "  defaultdict(int,\n",
       "              {'AUS': 98,\n",
       "               'ENG': 2,\n",
       "               'GER': 1,\n",
       "               'ITA': 2,\n",
       "               'TUR': 2,\n",
       "               'FRA': 1,\n",
       "               'RUS': 1}),\n",
       "  defaultdict(int, {'AUS': 98}),\n",
       "  defaultdict(int,\n",
       "              {'ENG': 2, 'GER': 1, 'ITA': 2, 'TUR': 2, 'FRA': 1, 'RUS': 1}),\n",
       "  defaultdict(int, {'AUS': 26.23469387755102}),\n",
       "  defaultdict(int,\n",
       "              {'ENG': 100.0,\n",
       "               'GER': 100.0,\n",
       "               'ITA': 100.0,\n",
       "               'TUR': 100.0,\n",
       "               'FRA': 100.0,\n",
       "               'RUS': 100.0})),\n",
       " ('Eng_Tur_LSP',\n",
       "  defaultdict(int,\n",
       "              {'TUR': 92,\n",
       "               'ENG': 59,\n",
       "               'FRA': 39,\n",
       "               'RUS': 22,\n",
       "               'GER': 20,\n",
       "               'ITA': 26,\n",
       "               'AUS': 36}),\n",
       "  defaultdict(int, {'TUR': 36, 'ENG': 2, 'RUS': 1, 'AUS': 3, 'FRA': 1}),\n",
       "  defaultdict(int,\n",
       "              {'ENG': 57,\n",
       "               'FRA': 38,\n",
       "               'RUS': 21,\n",
       "               'TUR': 56,\n",
       "               'GER': 20,\n",
       "               'ITA': 26,\n",
       "               'AUS': 33}),\n",
       "  defaultdict(int,\n",
       "              {'TUR': 62.44444444444444,\n",
       "               'ENG': 81.5,\n",
       "               'RUS': 59.0,\n",
       "               'AUS': 94.0,\n",
       "               'FRA': 95.0}),\n",
       "  defaultdict(int,\n",
       "              {'ENG': 100.0,\n",
       "               'FRA': 100.0,\n",
       "               'RUS': 100.0,\n",
       "               'TUR': 100.0,\n",
       "               'GER': 100.0,\n",
       "               'ITA': 100.0,\n",
       "               'AUS': 100.0})),\n",
       " ('Tur_Eng_LSP',\n",
       "  defaultdict(int,\n",
       "              {'GER': 31,\n",
       "               'AUS': 34,\n",
       "               'ENG': 43,\n",
       "               'FRA': 31,\n",
       "               'ITA': 22,\n",
       "               'RUS': 28,\n",
       "               'TUR': 61}),\n",
       "  defaultdict(int,\n",
       "              {'GER': 13, 'TUR': 20, 'RUS': 6, 'AUS': 7, 'ENG': 2, 'FRA': 7}),\n",
       "  defaultdict(int,\n",
       "              {'AUS': 27,\n",
       "               'ENG': 41,\n",
       "               'FRA': 24,\n",
       "               'ITA': 22,\n",
       "               'RUS': 22,\n",
       "               'TUR': 41,\n",
       "               'GER': 18}),\n",
       "  defaultdict(int,\n",
       "              {'GER': 74.23076923076923,\n",
       "               'TUR': 63.25,\n",
       "               'RUS': 76.83333333333333,\n",
       "               'AUS': 73.0,\n",
       "               'ENG': 77.0,\n",
       "               'FRA': 79.42857142857143}),\n",
       "  defaultdict(int,\n",
       "              {'AUS': 100.0,\n",
       "               'ENG': 100.0,\n",
       "               'FRA': 100.0,\n",
       "               'ITA': 100.0,\n",
       "               'RUS': 100.0,\n",
       "               'TUR': 100.0,\n",
       "               'GER': 100.0}))]"
      ]
     },
     "execution_count": 28,
     "metadata": {},
     "output_type": "execute_result"
    }
   ],
   "source": [
    "parent_analysis"
   ]
  },
  {
   "cell_type": "code",
   "execution_count": 49,
   "metadata": {},
   "outputs": [],
   "source": [
    "rows = []\n",
    "pows = 'ENG,AUS,ITA,FRA,GER,RUS,TUR'.split(\",\")\n",
    "for col in parent_analysis:\n",
    "    for i in range(1, len(col)):\n",
    "        for pow1 in pows:\n",
    "            rows.append([pow1, col[0], i, col[i][pow1]])"
   ]
  },
  {
   "cell_type": "code",
   "execution_count": 51,
   "metadata": {},
   "outputs": [],
   "source": [
    "# cols = []\n",
    "# for col in parent_analysis:\n",
    "#     for i in range(1, len(col)):\n",
    "#         cols.append(col[0]+str(i))\n",
    "pd.DataFrame(rows, columns=['power', 'scenario', 'key', 'val']).to_csv('n_comms_game_analysis_2022_03_31-01:13:13.csv')"
   ]
  },
  {
   "cell_type": "code",
   "execution_count": null,
   "metadata": {},
   "outputs": [],
   "source": []
  },
  {
   "cell_type": "code",
   "execution_count": null,
   "metadata": {},
   "outputs": [],
   "source": []
  },
  {
   "cell_type": "markdown",
   "metadata": {},
   "source": [
    "# Past Setup Analysis"
   ]
  },
  {
   "cell_type": "code",
   "execution_count": 55,
   "metadata": {},
   "outputs": [
    {
     "data": {
      "text/html": [
       "<div>\n",
       "<style scoped>\n",
       "    .dataframe tbody tr th:only-of-type {\n",
       "        vertical-align: middle;\n",
       "    }\n",
       "\n",
       "    .dataframe tbody tr th {\n",
       "        vertical-align: top;\n",
       "    }\n",
       "\n",
       "    .dataframe thead th {\n",
       "        text-align: right;\n",
       "    }\n",
       "</style>\n",
       "<table border=\"1\" class=\"dataframe\">\n",
       "  <thead>\n",
       "    <tr style=\"text-align: right;\">\n",
       "      <th></th>\n",
       "      <th>total</th>\n",
       "      <th>solo</th>\n",
       "      <th>shared</th>\n",
       "      <th>solo_dur</th>\n",
       "      <th>shared_dur</th>\n",
       "    </tr>\n",
       "  </thead>\n",
       "  <tbody>\n",
       "    <tr>\n",
       "      <th>ENG</th>\n",
       "      <td>51</td>\n",
       "      <td>0</td>\n",
       "      <td>51</td>\n",
       "      <td>0.00</td>\n",
       "      <td>100.0</td>\n",
       "    </tr>\n",
       "    <tr>\n",
       "      <th>AUS</th>\n",
       "      <td>54</td>\n",
       "      <td>10</td>\n",
       "      <td>44</td>\n",
       "      <td>63.50</td>\n",
       "      <td>100.0</td>\n",
       "    </tr>\n",
       "    <tr>\n",
       "      <th>ITA</th>\n",
       "      <td>38</td>\n",
       "      <td>0</td>\n",
       "      <td>38</td>\n",
       "      <td>0.00</td>\n",
       "      <td>100.0</td>\n",
       "    </tr>\n",
       "    <tr>\n",
       "      <th>FRA</th>\n",
       "      <td>57</td>\n",
       "      <td>4</td>\n",
       "      <td>53</td>\n",
       "      <td>75.75</td>\n",
       "      <td>100.0</td>\n",
       "    </tr>\n",
       "    <tr>\n",
       "      <th>GER</th>\n",
       "      <td>49</td>\n",
       "      <td>5</td>\n",
       "      <td>44</td>\n",
       "      <td>65.40</td>\n",
       "      <td>100.0</td>\n",
       "    </tr>\n",
       "    <tr>\n",
       "      <th>RUS</th>\n",
       "      <td>52</td>\n",
       "      <td>12</td>\n",
       "      <td>40</td>\n",
       "      <td>62.50</td>\n",
       "      <td>100.0</td>\n",
       "    </tr>\n",
       "    <tr>\n",
       "      <th>TUR</th>\n",
       "      <td>59</td>\n",
       "      <td>2</td>\n",
       "      <td>57</td>\n",
       "      <td>87.00</td>\n",
       "      <td>100.0</td>\n",
       "    </tr>\n",
       "  </tbody>\n",
       "</table>\n",
       "</div>"
      ],
      "text/plain": [
       "     total  solo  shared  solo_dur  shared_dur\n",
       "ENG     51     0      51      0.00       100.0\n",
       "AUS     54    10      44     63.50       100.0\n",
       "ITA     38     0      38      0.00       100.0\n",
       "FRA     57     4      53     75.75       100.0\n",
       "GER     49     5      44     65.40       100.0\n",
       "RUS     52    12      40     62.50       100.0\n",
       "TUR     59     2      57     87.00       100.0"
      ]
     },
     "execution_count": 55,
     "metadata": {},
     "output_type": "execute_result"
    }
   ],
   "source": [
    "def temp(file):\n",
    "    file = \"GameAnalysisFiles/\" + file\n",
    "    power_total_wins = defaultdict(int)\n",
    "    power_solo_wins = defaultdict(int)\n",
    "    power_shared_wins = defaultdict(int)\n",
    "    power_solo_durations = defaultdict(int)\n",
    "    power_shared_durations = defaultdict(int)\n",
    "\n",
    "    no_of_games = 0\n",
    "    with open(file) as f:\n",
    "        for line in f:\n",
    "            game = json.loads(line)\n",
    "            winners = [pow1.strip() for pow1 in game['phases'][-1]['state']['note'].split(\":\")[-1].split(\",\")]\n",
    "            for pow1 in winners:\n",
    "                power_total_wins[pow1] += 1\n",
    "            if len(winners) == 1:\n",
    "                power_solo_wins[winners[0]] += 1\n",
    "                power_solo_durations[winners[0]] += int(game['phases'][-2]['name'][1:-1]) - 1900\n",
    "            else:\n",
    "                for pow1 in winners:\n",
    "                    power_shared_wins[pow1] += 1\n",
    "                    power_shared_durations[pow1] += int(game['phases'][-2]['name'][1:-1]) - 1900\n",
    "    for pow1 in power_solo_durations:\n",
    "        power_solo_durations[pow1] /= power_solo_wins[pow1]\n",
    "    for pow1 in power_shared_durations:\n",
    "        power_shared_durations[pow1] /= power_shared_wins[pow1]\n",
    "    \n",
    "#     print(power_total_wins, power_solo_wins, power_shared_wins, power_solo_durations, power_shared_durations)\n",
    "    rows = defaultdict(list)\n",
    "    for col in power_total_wins, power_solo_wins, power_shared_wins, power_solo_durations, power_shared_durations:\n",
    "        for pow in pows:\n",
    "            rows[pow].append(col[pow])\n",
    "    temp = pd.DataFrame.from_dict(rows, orient='index', columns=['total', 'solo', 'shared', 'solo_dur', 'shared_dur'])\n",
    "    temp.to_clipboard()\n",
    "    return temp\n",
    "\n",
    "temp(\"RandomNoPressBotGame.json\")"
   ]
  },
  {
   "cell_type": "code",
   "execution_count": null,
   "metadata": {},
   "outputs": [],
   "source": []
  },
  {
   "cell_type": "markdown",
   "metadata": {},
   "source": [
    "# All In Game"
   ]
  },
  {
   "cell_type": "markdown",
   "metadata": {},
   "source": [
    "## AUS Leader"
   ]
  },
  {
   "cell_type": "code",
   "execution_count": 28,
   "metadata": {},
   "outputs": [],
   "source": [
    "pows = 'ENGLAND,AUSTRIA,ITALY,FRANCE,GERMANY,RUSSIA,TURKEY'\n",
    "types = 'lsp,lspm,lsp,lsp,lsp,lsp,lsp'\n",
    "file = \"Random_LSP_AUS-ALLIN_BotGame_\" + suffix + \".json\"\n",
    "runname = 'Aus_Allin_LSP'\n",
    "\n",
    "execute_scenario(pows, types, file, runname, parent_analysis, True)"
   ]
  },
  {
   "cell_type": "markdown",
   "metadata": {},
   "source": [
    "## ENG Leader"
   ]
  },
  {
   "cell_type": "code",
   "execution_count": 29,
   "metadata": {},
   "outputs": [],
   "source": [
    "pows = 'ENGLAND,AUSTRIA,ITALY,FRANCE,GERMANY,RUSSIA,TURKEY'\n",
    "types = 'lspm,lsp,lsp,lsp,lsp,lsp,lsp'\n",
    "file = \"Random_LSP_ENG-ALLIN_BotGame_\" + suffix + \".json\"\n",
    "runname = 'Eng_Allin_LSP'\n",
    "\n",
    "execute_scenario(pows, types, file, runname, parent_analysis, True)"
   ]
  },
  {
   "cell_type": "markdown",
   "metadata": {},
   "source": [
    "## GER Leader"
   ]
  },
  {
   "cell_type": "code",
   "execution_count": 26,
   "metadata": {},
   "outputs": [
    {
     "name": "stderr",
     "output_type": "stream",
     "text": [
      "100%|██████████| 100/100 [00:26<00:00,  3.74it/s]\n",
      "ERROR:root:Internal Python error in the inspect module.\n",
      "Below is the traceback from this internal error.\n",
      "\n"
     ]
    },
    {
     "name": "stdout",
     "output_type": "stream",
     "text": [
      "Traceback (most recent call last):\n",
      "  File \"/Users/kartikshenoy/anaconda3/lib/python3.8/site-packages/IPython/core/interactiveshell.py\", line 3418, in run_code\n",
      "    exec(code_obj, self.user_global_ns, self.user_ns)\n",
      "  File \"<ipython-input-26-bb7fb8a0a523>\", line 6, in <module>\n",
      "    execute_scenario(pows, types, file, runname, parent_analysis)\n",
      "  File \"<ipython-input-13-5828d516ff11>\", line 18, in execute_scenario\n",
      "    for line in f:\n",
      "KeyboardInterrupt\n",
      "\n",
      "During handling of the above exception, another exception occurred:\n",
      "\n",
      "Traceback (most recent call last):\n",
      "  File \"/Users/kartikshenoy/anaconda3/lib/python3.8/site-packages/IPython/core/interactiveshell.py\", line 2045, in showtraceback\n",
      "    stb = value._render_traceback_()\n",
      "AttributeError: 'KeyboardInterrupt' object has no attribute '_render_traceback_'\n",
      "\n",
      "During handling of the above exception, another exception occurred:\n",
      "\n",
      "Traceback (most recent call last):\n",
      "  File \"/Users/kartikshenoy/anaconda3/lib/python3.8/site-packages/IPython/core/ultratb.py\", line 1170, in get_records\n",
      "    return _fixed_getinnerframes(etb, number_of_lines_of_context, tb_offset)\n",
      "  File \"/Users/kartikshenoy/anaconda3/lib/python3.8/site-packages/IPython/core/ultratb.py\", line 316, in wrapped\n",
      "    return f(*args, **kwargs)\n",
      "  File \"/Users/kartikshenoy/anaconda3/lib/python3.8/site-packages/IPython/core/ultratb.py\", line 350, in _fixed_getinnerframes\n",
      "    records = fix_frame_records_filenames(inspect.getinnerframes(etb, context))\n",
      "  File \"/Users/kartikshenoy/anaconda3/lib/python3.8/inspect.py\", line 1503, in getinnerframes\n",
      "    frameinfo = (tb.tb_frame,) + getframeinfo(tb, context)\n",
      "  File \"/Users/kartikshenoy/anaconda3/lib/python3.8/inspect.py\", line 1461, in getframeinfo\n",
      "    filename = getsourcefile(frame) or getfile(frame)\n",
      "  File \"/Users/kartikshenoy/anaconda3/lib/python3.8/inspect.py\", line 708, in getsourcefile\n",
      "    if getattr(getmodule(object, filename), '__loader__', None) is not None:\n",
      "  File \"/Users/kartikshenoy/anaconda3/lib/python3.8/inspect.py\", line 754, in getmodule\n",
      "    os.path.realpath(f)] = module.__name__\n",
      "  File \"/Users/kartikshenoy/anaconda3/lib/python3.8/posixpath.py\", line 391, in realpath\n",
      "    path, ok = _joinrealpath(filename[:0], filename, {})\n",
      "  File \"/Users/kartikshenoy/anaconda3/lib/python3.8/posixpath.py\", line 425, in _joinrealpath\n",
      "    if not islink(newpath):\n",
      "  File \"/Users/kartikshenoy/anaconda3/lib/python3.8/posixpath.py\", line 167, in islink\n",
      "    st = os.lstat(path)\n",
      "KeyboardInterrupt\n"
     ]
    },
    {
     "ename": "TypeError",
     "evalue": "object of type 'NoneType' has no len()",
     "output_type": "error",
     "traceback": [
      "\u001b[0;31m---------------------------------------------------------------------------\u001b[0m",
      "\u001b[0;31mKeyboardInterrupt\u001b[0m                         Traceback (most recent call last)",
      "    \u001b[0;31m[... skipping hidden 1 frame]\u001b[0m\n",
      "\u001b[0;32m<ipython-input-26-bb7fb8a0a523>\u001b[0m in \u001b[0;36m<module>\u001b[0;34m\u001b[0m\n\u001b[1;32m      5\u001b[0m \u001b[0;34m\u001b[0m\u001b[0m\n\u001b[0;32m----> 6\u001b[0;31m \u001b[0mexecute_scenario\u001b[0m\u001b[0;34m(\u001b[0m\u001b[0mpows\u001b[0m\u001b[0;34m,\u001b[0m \u001b[0mtypes\u001b[0m\u001b[0;34m,\u001b[0m \u001b[0mfile\u001b[0m\u001b[0;34m,\u001b[0m \u001b[0mrunname\u001b[0m\u001b[0;34m,\u001b[0m \u001b[0mparent_analysis\u001b[0m\u001b[0;34m)\u001b[0m\u001b[0;34m\u001b[0m\u001b[0;34m\u001b[0m\u001b[0m\n\u001b[0m",
      "\u001b[0;32m<ipython-input-13-5828d516ff11>\u001b[0m in \u001b[0;36mexecute_scenario\u001b[0;34m(pows, types, file, runname, parent_analysis, bypass_exec, game_play_count)\u001b[0m\n\u001b[1;32m     17\u001b[0m     \u001b[0;32mwith\u001b[0m \u001b[0mopen\u001b[0m\u001b[0;34m(\u001b[0m\u001b[0mfile\u001b[0m\u001b[0;34m)\u001b[0m \u001b[0;32mas\u001b[0m \u001b[0mf\u001b[0m\u001b[0;34m:\u001b[0m\u001b[0;34m\u001b[0m\u001b[0;34m\u001b[0m\u001b[0m\n\u001b[0;32m---> 18\u001b[0;31m         \u001b[0;32mfor\u001b[0m \u001b[0mline\u001b[0m \u001b[0;32min\u001b[0m \u001b[0mf\u001b[0m\u001b[0;34m:\u001b[0m\u001b[0;34m\u001b[0m\u001b[0;34m\u001b[0m\u001b[0m\n\u001b[0m\u001b[1;32m     19\u001b[0m             \u001b[0mgame\u001b[0m \u001b[0;34m=\u001b[0m \u001b[0mjson\u001b[0m\u001b[0;34m.\u001b[0m\u001b[0mloads\u001b[0m\u001b[0;34m(\u001b[0m\u001b[0mline\u001b[0m\u001b[0;34m)\u001b[0m\u001b[0;34m\u001b[0m\u001b[0;34m\u001b[0m\u001b[0m\n",
      "\u001b[0;31mKeyboardInterrupt\u001b[0m: ",
      "\nDuring handling of the above exception, another exception occurred:\n",
      "\u001b[0;31mAttributeError\u001b[0m                            Traceback (most recent call last)",
      "\u001b[0;32m~/anaconda3/lib/python3.8/site-packages/IPython/core/interactiveshell.py\u001b[0m in \u001b[0;36mshowtraceback\u001b[0;34m(self, exc_tuple, filename, tb_offset, exception_only, running_compiled_code)\u001b[0m\n\u001b[1;32m   2044\u001b[0m                         \u001b[0;31m# in the engines. This should return a list of strings.\u001b[0m\u001b[0;34m\u001b[0m\u001b[0;34m\u001b[0m\u001b[0;34m\u001b[0m\u001b[0m\n\u001b[0;32m-> 2045\u001b[0;31m                         \u001b[0mstb\u001b[0m \u001b[0;34m=\u001b[0m \u001b[0mvalue\u001b[0m\u001b[0;34m.\u001b[0m\u001b[0m_render_traceback_\u001b[0m\u001b[0;34m(\u001b[0m\u001b[0;34m)\u001b[0m\u001b[0;34m\u001b[0m\u001b[0;34m\u001b[0m\u001b[0m\n\u001b[0m\u001b[1;32m   2046\u001b[0m                     \u001b[0;32mexcept\u001b[0m \u001b[0mException\u001b[0m\u001b[0;34m:\u001b[0m\u001b[0;34m\u001b[0m\u001b[0;34m\u001b[0m\u001b[0m\n",
      "\u001b[0;31mAttributeError\u001b[0m: 'KeyboardInterrupt' object has no attribute '_render_traceback_'",
      "\nDuring handling of the above exception, another exception occurred:\n",
      "\u001b[0;31mTypeError\u001b[0m                                 Traceback (most recent call last)",
      "    \u001b[0;31m[... skipping hidden 1 frame]\u001b[0m\n",
      "\u001b[0;32m~/anaconda3/lib/python3.8/site-packages/IPython/core/interactiveshell.py\u001b[0m in \u001b[0;36mshowtraceback\u001b[0;34m(self, exc_tuple, filename, tb_offset, exception_only, running_compiled_code)\u001b[0m\n\u001b[1;32m   2045\u001b[0m                         \u001b[0mstb\u001b[0m \u001b[0;34m=\u001b[0m \u001b[0mvalue\u001b[0m\u001b[0;34m.\u001b[0m\u001b[0m_render_traceback_\u001b[0m\u001b[0;34m(\u001b[0m\u001b[0;34m)\u001b[0m\u001b[0;34m\u001b[0m\u001b[0;34m\u001b[0m\u001b[0m\n\u001b[1;32m   2046\u001b[0m                     \u001b[0;32mexcept\u001b[0m \u001b[0mException\u001b[0m\u001b[0;34m:\u001b[0m\u001b[0;34m\u001b[0m\u001b[0;34m\u001b[0m\u001b[0m\n\u001b[0;32m-> 2047\u001b[0;31m                         stb = self.InteractiveTB.structured_traceback(etype,\n\u001b[0m\u001b[1;32m   2048\u001b[0m                                             value, tb, tb_offset=tb_offset)\n\u001b[1;32m   2049\u001b[0m \u001b[0;34m\u001b[0m\u001b[0m\n",
      "\u001b[0;32m~/anaconda3/lib/python3.8/site-packages/IPython/core/ultratb.py\u001b[0m in \u001b[0;36mstructured_traceback\u001b[0;34m(self, etype, value, tb, tb_offset, number_of_lines_of_context)\u001b[0m\n\u001b[1;32m   1434\u001b[0m         \u001b[0;32melse\u001b[0m\u001b[0;34m:\u001b[0m\u001b[0;34m\u001b[0m\u001b[0;34m\u001b[0m\u001b[0m\n\u001b[1;32m   1435\u001b[0m             \u001b[0mself\u001b[0m\u001b[0;34m.\u001b[0m\u001b[0mtb\u001b[0m \u001b[0;34m=\u001b[0m \u001b[0mtb\u001b[0m\u001b[0;34m\u001b[0m\u001b[0;34m\u001b[0m\u001b[0m\n\u001b[0;32m-> 1436\u001b[0;31m         return FormattedTB.structured_traceback(\n\u001b[0m\u001b[1;32m   1437\u001b[0m             self, etype, value, tb, tb_offset, number_of_lines_of_context)\n\u001b[1;32m   1438\u001b[0m \u001b[0;34m\u001b[0m\u001b[0m\n",
      "\u001b[0;32m~/anaconda3/lib/python3.8/site-packages/IPython/core/ultratb.py\u001b[0m in \u001b[0;36mstructured_traceback\u001b[0;34m(self, etype, value, tb, tb_offset, number_of_lines_of_context)\u001b[0m\n\u001b[1;32m   1334\u001b[0m         \u001b[0;32mif\u001b[0m \u001b[0mmode\u001b[0m \u001b[0;32min\u001b[0m \u001b[0mself\u001b[0m\u001b[0;34m.\u001b[0m\u001b[0mverbose_modes\u001b[0m\u001b[0;34m:\u001b[0m\u001b[0;34m\u001b[0m\u001b[0;34m\u001b[0m\u001b[0m\n\u001b[1;32m   1335\u001b[0m             \u001b[0;31m# Verbose modes need a full traceback\u001b[0m\u001b[0;34m\u001b[0m\u001b[0;34m\u001b[0m\u001b[0;34m\u001b[0m\u001b[0m\n\u001b[0;32m-> 1336\u001b[0;31m             return VerboseTB.structured_traceback(\n\u001b[0m\u001b[1;32m   1337\u001b[0m                 \u001b[0mself\u001b[0m\u001b[0;34m,\u001b[0m \u001b[0metype\u001b[0m\u001b[0;34m,\u001b[0m \u001b[0mvalue\u001b[0m\u001b[0;34m,\u001b[0m \u001b[0mtb\u001b[0m\u001b[0;34m,\u001b[0m \u001b[0mtb_offset\u001b[0m\u001b[0;34m,\u001b[0m \u001b[0mnumber_of_lines_of_context\u001b[0m\u001b[0;34m\u001b[0m\u001b[0;34m\u001b[0m\u001b[0m\n\u001b[1;32m   1338\u001b[0m             )\n",
      "\u001b[0;32m~/anaconda3/lib/python3.8/site-packages/IPython/core/ultratb.py\u001b[0m in \u001b[0;36mstructured_traceback\u001b[0;34m(self, etype, evalue, etb, tb_offset, number_of_lines_of_context)\u001b[0m\n\u001b[1;32m   1191\u001b[0m         \u001b[0;34m\"\"\"Return a nice text document describing the traceback.\"\"\"\u001b[0m\u001b[0;34m\u001b[0m\u001b[0;34m\u001b[0m\u001b[0m\n\u001b[1;32m   1192\u001b[0m \u001b[0;34m\u001b[0m\u001b[0m\n\u001b[0;32m-> 1193\u001b[0;31m         formatted_exception = self.format_exception_as_a_whole(etype, evalue, etb, number_of_lines_of_context,\n\u001b[0m\u001b[1;32m   1194\u001b[0m                                                                tb_offset)\n\u001b[1;32m   1195\u001b[0m \u001b[0;34m\u001b[0m\u001b[0m\n",
      "\u001b[0;32m~/anaconda3/lib/python3.8/site-packages/IPython/core/ultratb.py\u001b[0m in \u001b[0;36mformat_exception_as_a_whole\u001b[0;34m(self, etype, evalue, etb, number_of_lines_of_context, tb_offset)\u001b[0m\n\u001b[1;32m   1149\u001b[0m \u001b[0;34m\u001b[0m\u001b[0m\n\u001b[1;32m   1150\u001b[0m \u001b[0;34m\u001b[0m\u001b[0m\n\u001b[0;32m-> 1151\u001b[0;31m         \u001b[0mlast_unique\u001b[0m\u001b[0;34m,\u001b[0m \u001b[0mrecursion_repeat\u001b[0m \u001b[0;34m=\u001b[0m \u001b[0mfind_recursion\u001b[0m\u001b[0;34m(\u001b[0m\u001b[0morig_etype\u001b[0m\u001b[0;34m,\u001b[0m \u001b[0mevalue\u001b[0m\u001b[0;34m,\u001b[0m \u001b[0mrecords\u001b[0m\u001b[0;34m)\u001b[0m\u001b[0;34m\u001b[0m\u001b[0;34m\u001b[0m\u001b[0m\n\u001b[0m\u001b[1;32m   1152\u001b[0m \u001b[0;34m\u001b[0m\u001b[0m\n\u001b[1;32m   1153\u001b[0m         \u001b[0mframes\u001b[0m \u001b[0;34m=\u001b[0m \u001b[0mself\u001b[0m\u001b[0;34m.\u001b[0m\u001b[0mformat_records\u001b[0m\u001b[0;34m(\u001b[0m\u001b[0mrecords\u001b[0m\u001b[0;34m,\u001b[0m \u001b[0mlast_unique\u001b[0m\u001b[0;34m,\u001b[0m \u001b[0mrecursion_repeat\u001b[0m\u001b[0;34m)\u001b[0m\u001b[0;34m\u001b[0m\u001b[0;34m\u001b[0m\u001b[0m\n",
      "\u001b[0;32m~/anaconda3/lib/python3.8/site-packages/IPython/core/ultratb.py\u001b[0m in \u001b[0;36mfind_recursion\u001b[0;34m(etype, value, records)\u001b[0m\n\u001b[1;32m    449\u001b[0m     \u001b[0;31m# first frame (from in to out) that looks different.\u001b[0m\u001b[0;34m\u001b[0m\u001b[0;34m\u001b[0m\u001b[0;34m\u001b[0m\u001b[0m\n\u001b[1;32m    450\u001b[0m     \u001b[0;32mif\u001b[0m \u001b[0;32mnot\u001b[0m \u001b[0mis_recursion_error\u001b[0m\u001b[0;34m(\u001b[0m\u001b[0metype\u001b[0m\u001b[0;34m,\u001b[0m \u001b[0mvalue\u001b[0m\u001b[0;34m,\u001b[0m \u001b[0mrecords\u001b[0m\u001b[0;34m)\u001b[0m\u001b[0;34m:\u001b[0m\u001b[0;34m\u001b[0m\u001b[0;34m\u001b[0m\u001b[0m\n\u001b[0;32m--> 451\u001b[0;31m         \u001b[0;32mreturn\u001b[0m \u001b[0mlen\u001b[0m\u001b[0;34m(\u001b[0m\u001b[0mrecords\u001b[0m\u001b[0;34m)\u001b[0m\u001b[0;34m,\u001b[0m \u001b[0;36m0\u001b[0m\u001b[0;34m\u001b[0m\u001b[0;34m\u001b[0m\u001b[0m\n\u001b[0m\u001b[1;32m    452\u001b[0m \u001b[0;34m\u001b[0m\u001b[0m\n\u001b[1;32m    453\u001b[0m     \u001b[0;31m# Select filename, lineno, func_name to track frames with\u001b[0m\u001b[0;34m\u001b[0m\u001b[0;34m\u001b[0m\u001b[0;34m\u001b[0m\u001b[0m\n",
      "\u001b[0;31mTypeError\u001b[0m: object of type 'NoneType' has no len()"
     ]
    }
   ],
   "source": [
    "pows = 'ENGLAND,AUSTRIA,ITALY,FRANCE,GERMANY,RUSSIA,TURKEY'\n",
    "types = 'lsp,lsp,lsp,lsp,lsp,lspm,lsp'\n",
    "file = \"Random_LSP_GER-ALLIN_BotGame_\" + suffix + \".json\"\n",
    "runname = 'Ger_Allin_LSP'\n",
    "\n",
    "execute_scenario(pows, types, file, runname, parent_analysis)"
   ]
  },
  {
   "cell_type": "code",
   "execution_count": 30,
   "metadata": {},
   "outputs": [],
   "source": [
    "rows = []\n",
    "pows = 'ENG,AUS,ITA,FRA,GER,RUS,TUR'.split(\",\")\n",
    "for col in parent_analysis:\n",
    "    for i in range(1, len(col)):\n",
    "        for pow1 in pows:\n",
    "            rows.append([pow1, col[0], i, col[i][pow1]])"
   ]
  },
  {
   "cell_type": "code",
   "execution_count": 31,
   "metadata": {},
   "outputs": [],
   "source": [
    "# cols = []\n",
    "# for col in parent_analysis:\n",
    "#     for i in range(1, len(col)):\n",
    "#         cols.append(col[0]+str(i))\n",
    "pd.DataFrame(rows, columns=['power', 'scenario', 'key', 'val']).to_csv('n_comms_game_analysis_' + suffix + '.csv')"
   ]
  },
  {
   "cell_type": "code",
   "execution_count": null,
   "metadata": {},
   "outputs": [],
   "source": []
  }
 ],
 "metadata": {
  "kernelspec": {
   "display_name": "Python 3",
   "language": "python",
   "name": "python3"
  },
  "language_info": {
   "codemirror_mode": {
    "name": "ipython",
    "version": 3
   },
   "file_extension": ".py",
   "mimetype": "text/x-python",
   "name": "python",
   "nbconvert_exporter": "python",
   "pygments_lexer": "ipython3",
   "version": "3.7.0"
  }
 },
 "nbformat": 4,
 "nbformat_minor": 1
}
