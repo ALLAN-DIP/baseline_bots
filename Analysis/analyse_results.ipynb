{
 "cells": [
  {
   "cell_type": "code",
   "execution_count": 17,
   "metadata": {},
   "outputs": [],
   "source": [
    "import json\n",
    "import os\n",
    "from collections import defaultdict\n",
    "import pandas as pd\n",
    "from tqdm import tqdm\n",
    "from datetime import datetime\n",
    "\n",
    "today = datetime.today()\n",
    "suffix = today.strftime(\"%Y_%m_%d-%H:%M:%S\")\n",
    "\n",
    "game_play_count = 100\n",
    "\n",
    "parent_analysis = []"
   ]
  },
  {
   "cell_type": "markdown",
   "metadata": {},
   "source": [
    "# Common Code"
   ]
  },
  {
   "cell_type": "code",
   "execution_count": 18,
   "metadata": {},
   "outputs": [],
   "source": [
    "def execute_scenario(pows, types, file, runname, parent_analysis):\n",
    "    file = \"GameAnalysisFiles/\" + file\n",
    "    os.system(f\"rm {file}\")\n",
    "\n",
    "    for _ in tqdm(range(game_play_count)):\n",
    "        cmd = f\"python ../analysis_bot_v2.py -p {pows} -t {types} -f {file}\"\n",
    "        os.system(cmd)\n",
    "\n",
    "    power_total_wins = defaultdict(int)\n",
    "    power_solo_wins = defaultdict(int)\n",
    "    power_shared_wins = defaultdict(int)\n",
    "    power_solo_durations = defaultdict(int)\n",
    "    power_shared_durations = defaultdict(int)\n",
    "\n",
    "    no_of_games = 0\n",
    "    with open(file) as f:\n",
    "        for line in f:\n",
    "            game = json.loads(line)\n",
    "            winners = [pow1.strip() for pow1 in game['phases'][-1]['state']['note'].split(\":\")[-1].split(\",\")]\n",
    "            for pow1 in winners:\n",
    "                power_total_wins[pow1] += 1\n",
    "            if len(winners) == 1:\n",
    "                power_solo_wins[winners[0]] += 1\n",
    "                power_solo_durations[winners[0]] += int(game['phases'][-2]['name'][1:-1]) - 1900\n",
    "            else:\n",
    "                for pow1 in winners:\n",
    "                    power_shared_wins[pow1] += 1\n",
    "                    power_shared_durations[pow1] += int(game['phases'][-2]['name'][1:-1]) - 1900\n",
    "    for pow1 in power_solo_durations:\n",
    "        power_solo_durations[pow1] /= power_solo_wins[pow1]\n",
    "    for pow1 in power_shared_durations:\n",
    "        power_shared_durations[pow1] /= power_shared_wins[pow1]\n",
    "        \n",
    "    parent_analysis.append((runname, power_total_wins, power_solo_wins, power_shared_wins, power_solo_durations, power_shared_durations))"
   ]
  },
  {
   "cell_type": "markdown",
   "metadata": {},
   "source": [
    "# Random No Press Game Results"
   ]
  },
  {
   "cell_type": "code",
   "execution_count": 19,
   "metadata": {},
   "outputs": [],
   "source": [
    "# pows = 'ENGLAND,AUSTRIA,ITALY,FRANCE,GERMANY,RUSSIA,TURKEY'\n",
    "# types = 'np,np,np,np,np,np,np'\n",
    "# file = \"Random_NoPress_BotGame\" + suffix + \".json\"\n",
    "\n",
    "# os.system(f\"rm ./GameAnalysisFiles/{file}\")\n",
    "\n",
    "# for _ in tqdm(range(game_play_count)):\n",
    "#     os.system(f\"python ../analysis_bot_v2.py -p {pows} -t {types} -f {file}\")\n",
    "\n",
    "# power_wins = defaultdict(int)\n",
    "# comb_wins = defaultdict(int)\n",
    "# winner_counts = defaultdict(int)\n",
    "# no_of_games = 0\n",
    "# with open(file)  as f:\n",
    "#     for line in f:\n",
    "#         game = json.loads(line)\n",
    "#         pow_win = [pow1.strip() for pow1 in game['phases'][-1]['state']['note'].split(\":\")[-1].split(\",\")]\n",
    "#         comb_wins[\",\".join(pow_win)] += 1\n",
    "#         winner_counts[len(pow_win)] += 1\n",
    "#         for pow1 in pow_win:\n",
    "#             power_wins[pow1] += 1\n",
    "#         no_of_games += 1\n",
    "\n",
    "# for pow1 in power_wins:\n",
    "#     power_wins[pow1] /= no_of_games"
   ]
  },
  {
   "cell_type": "code",
   "execution_count": 20,
   "metadata": {},
   "outputs": [
    {
     "name": "stderr",
     "output_type": "stream",
     "text": [
      "100%|██████████| 100/100 [09:18<00:00,  5.59s/it]\n"
     ]
    }
   ],
   "source": [
    "pows = 'ENGLAND,AUSTRIA,ITALY,FRANCE,GERMANY,RUSSIA,TURKEY'\n",
    "types = 'np,np,np,np,np,np,np'\n",
    "file = \"Random_NoPress_BotGame_\" + suffix + \".json\"\n",
    "runname = 'random_np'\n",
    "\n",
    "execute_scenario(pows, types, file, runname, parent_analysis)"
   ]
  },
  {
   "cell_type": "markdown",
   "metadata": {},
   "source": [
    "# SLP 2 bot game plays"
   ]
  },
  {
   "cell_type": "markdown",
   "metadata": {},
   "source": [
    "## Germany and Italy"
   ]
  },
  {
   "cell_type": "code",
   "execution_count": 21,
   "metadata": {},
   "outputs": [
    {
     "name": "stderr",
     "output_type": "stream",
     "text": [
      "100%|██████████| 100/100 [04:11<00:00,  2.51s/it]\n"
     ]
    }
   ],
   "source": [
    "pows = 'ENGLAND,AUSTRIA,ITALY,FRANCE,GERMANY,RUSSIA,TURKEY'\n",
    "types = 'np,np,lsp,np,lspm,np,np'\n",
    "file = \"Random_LSP_VS_NP_GERM_ITALY_BotGame_\" + suffix + \".json\"\n",
    "runname = 'Germ_Ital_LSP'\n",
    "\n",
    "execute_scenario(pows, types, file, runname, parent_analysis)"
   ]
  },
  {
   "cell_type": "markdown",
   "metadata": {},
   "source": [
    "## Germany and Russia"
   ]
  },
  {
   "cell_type": "code",
   "execution_count": 22,
   "metadata": {},
   "outputs": [
    {
     "name": "stderr",
     "output_type": "stream",
     "text": [
      "100%|██████████| 100/100 [04:21<00:00,  2.62s/it]\n"
     ]
    }
   ],
   "source": [
    "pows = 'ENGLAND,AUSTRIA,ITALY,FRANCE,GERMANY,RUSSIA,TURKEY'\n",
    "types = 'np,np,np,np,lsp,lspm,np'\n",
    "file = \"Random_LSP_VS_NP_RUSS_GERM_BotGame_\" + suffix + \".json\"\n",
    "runname = 'Russ_Germ_LSP'\n",
    "\n",
    "execute_scenario(pows, types, file, runname, parent_analysis)"
   ]
  },
  {
   "cell_type": "markdown",
   "metadata": {},
   "source": [
    "## Austria and Italy"
   ]
  },
  {
   "cell_type": "code",
   "execution_count": null,
   "metadata": {},
   "outputs": [
    {
     "name": "stderr",
     "output_type": "stream",
     "text": [
      "  3%|▎         | 3/100 [00:12<07:50,  4.85s/it]"
     ]
    }
   ],
   "source": [
    "pows = 'ENGLAND,AUSTRIA,ITALY,FRANCE,GERMANY,RUSSIA,TURKEY'\n",
    "types = 'np,lspm,lsp,np,np,np,np'\n",
    "file = \"Random_LSP_VS_NP_AUS_ITA_BotGame_\" + suffix + \".json\"\n",
    "runname = 'Aus_Ita_LSP'\n",
    "\n",
    "execute_scenario(pows, types, file, runname, parent_analysis)"
   ]
  },
  {
   "cell_type": "markdown",
   "metadata": {},
   "source": [
    "## England and France"
   ]
  },
  {
   "cell_type": "code",
   "execution_count": null,
   "metadata": {},
   "outputs": [],
   "source": [
    "pows = 'ENGLAND,AUSTRIA,ITALY,FRANCE,GERMANY,RUSSIA,TURKEY'\n",
    "types = 'lspm,np,np,lsp,np,np,np'\n",
    "file = \"Random_LSP_VS_NP_ENG_FRA_BotGame_\" + suffix + \".json\"\n",
    "runname = 'Eng_Fra_LSP'\n",
    "\n",
    "execute_scenario(pows, types, file, runname, parent_analysis)"
   ]
  },
  {
   "cell_type": "markdown",
   "metadata": {},
   "source": [
    "## England and Austria"
   ]
  },
  {
   "cell_type": "code",
   "execution_count": null,
   "metadata": {},
   "outputs": [],
   "source": [
    "pows = 'ENGLAND,AUSTRIA,ITALY,FRANCE,GERMANY,RUSSIA,TURKEY'\n",
    "types = 'lspm,lsp,np,np,np,np,np'\n",
    "file = \"Random_LSP_VS_NP_ENG_AUS_BotGame_\" + suffix + \".json\"\n",
    "runname = 'Eng_Aus_LSP'\n",
    "\n",
    "execute_scenario(pows, types, file, runname, parent_analysis)"
   ]
  },
  {
   "cell_type": "markdown",
   "metadata": {},
   "source": [
    "# England and Turkey"
   ]
  },
  {
   "cell_type": "code",
   "execution_count": null,
   "metadata": {},
   "outputs": [],
   "source": [
    "pows = 'ENGLAND,AUSTRIA,ITALY,FRANCE,GERMANY,RUSSIA,TURKEY'\n",
    "types = 'lspm,np,np,np,np,np,lsp'\n",
    "file = \"Random_LSP_VS_NP_ENG_TUR_BotGame_\" + suffix + \".json\"\n",
    "runname = 'Eng_Tur_LSP'\n",
    "\n",
    "execute_scenario(pows, types, file, runname, parent_analysis)"
   ]
  },
  {
   "cell_type": "markdown",
   "metadata": {},
   "source": [
    "# Turkey and England"
   ]
  },
  {
   "cell_type": "code",
   "execution_count": null,
   "metadata": {},
   "outputs": [],
   "source": [
    "pows = 'ENGLAND,AUSTRIA,ITALY,FRANCE,GERMANY,RUSSIA,TURKEY'\n",
    "types = 'lsp,np,np,np,np,np,lspm'\n",
    "file = \"Random_LSP_VS_NP_TUR_ENG_BotGame_\" + suffix + \".json\"\n",
    "runname = 'Tur_Eng_LSP'\n",
    "\n",
    "execute_scenario(pows, types, file, runname, parent_analysis)"
   ]
  },
  {
   "cell_type": "code",
   "execution_count": null,
   "metadata": {},
   "outputs": [],
   "source": [
    "parent_analysis"
   ]
  },
  {
   "cell_type": "code",
   "execution_count": null,
   "metadata": {},
   "outputs": [],
   "source": []
  }
 ],
 "metadata": {
  "kernelspec": {
   "display_name": "diplomacy",
   "language": "python",
   "name": "diplomacy"
  },
  "language_info": {
   "codemirror_mode": {
    "name": "ipython",
    "version": 3
   },
   "file_extension": ".py",
   "mimetype": "text/x-python",
   "name": "python",
   "nbconvert_exporter": "python",
   "pygments_lexer": "ipython3",
   "version": "3.8.5"
  }
 },
 "nbformat": 4,
 "nbformat_minor": 1
}
