{
 "cells": [
  {
   "cell_type": "code",
   "execution_count": 17,
   "metadata": {},
   "outputs": [],
   "source": [
    "import json\n",
    "import os\n",
    "from collections import defaultdict\n",
    "import pandas as pd\n",
    "from tqdm import tqdm\n",
    "from datetime import datetime\n",
    "\n",
    "today = datetime.today()\n",
    "suffix = today.strftime(\"%Y_%m_%d-%H:%M:%S\")\n",
    "\n",
    "game_play_count = 100\n",
    "\n",
    "parent_analysis = []"
   ]
  },
  {
   "cell_type": "markdown",
   "metadata": {},
   "source": [
    "# Common Code"
   ]
  },
  {
   "cell_type": "code",
   "execution_count": 18,
   "metadata": {},
   "outputs": [],
   "source": [
    "def execute_scenario(pows, types, file, runname, parent_analysis):\n",
    "    file = \"GameAnalysisFiles/\" + file\n",
    "    os.system(f\"rm {file}\")\n",
    "\n",
    "    for _ in tqdm(range(game_play_count)):\n",
    "        cmd = f\"python ../analysis_bot_v2.py -p {pows} -t {types} -f {file}\"\n",
    "        os.system(cmd)\n",
    "\n",
    "    power_total_wins = defaultdict(int)\n",
    "    power_solo_wins = defaultdict(int)\n",
    "    power_shared_wins = defaultdict(int)\n",
    "    power_solo_durations = defaultdict(int)\n",
    "    power_shared_durations = defaultdict(int)\n",
    "\n",
    "    no_of_games = 0\n",
    "    with open(file) as f:\n",
    "        for line in f:\n",
    "            game = json.loads(line)\n",
    "            winners = [pow1.strip() for pow1 in game['phases'][-1]['state']['note'].split(\":\")[-1].split(\",\")]\n",
    "            for pow1 in winners:\n",
    "                power_total_wins[pow1] += 1\n",
    "            if len(winners) == 1:\n",
    "                power_solo_wins[winners[0]] += 1\n",
    "                power_solo_durations[winners[0]] += int(game['phases'][-2]['name'][1:-1]) - 1900\n",
    "            else:\n",
    "                for pow1 in winners:\n",
    "                    power_shared_wins[pow1] += 1\n",
    "                    power_shared_durations[pow1] += int(game['phases'][-2]['name'][1:-1]) - 1900\n",
    "    for pow1 in power_solo_durations:\n",
    "        power_solo_durations[pow1] /= power_solo_wins[pow1]\n",
    "    for pow1 in power_shared_durations:\n",
    "        power_shared_durations[pow1] /= power_shared_wins[pow1]\n",
    "        \n",
    "    parent_analysis.append((runname, power_total_wins, power_solo_wins, power_shared_wins, power_solo_durations, power_shared_durations))"
   ]
  },
  {
   "cell_type": "markdown",
   "metadata": {},
   "source": [
    "# Random No Press Game Results"
   ]
  },
  {
   "cell_type": "code",
   "execution_count": 19,
   "metadata": {},
   "outputs": [],
   "source": [
    "# pows = 'ENGLAND,AUSTRIA,ITALY,FRANCE,GERMANY,RUSSIA,TURKEY'\n",
    "# types = 'np,np,np,np,np,np,np'\n",
    "# file = \"Random_NoPress_BotGame\" + suffix + \".json\"\n",
    "\n",
    "# os.system(f\"rm ./GameAnalysisFiles/{file}\")\n",
    "\n",
    "# for _ in tqdm(range(game_play_count)):\n",
    "#     os.system(f\"python ../analysis_bot_v2.py -p {pows} -t {types} -f {file}\")\n",
    "\n",
    "# power_wins = defaultdict(int)\n",
    "# comb_wins = defaultdict(int)\n",
    "# winner_counts = defaultdict(int)\n",
    "# no_of_games = 0\n",
    "# with open(file)  as f:\n",
    "#     for line in f:\n",
    "#         game = json.loads(line)\n",
    "#         pow_win = [pow1.strip() for pow1 in game['phases'][-1]['state']['note'].split(\":\")[-1].split(\",\")]\n",
    "#         comb_wins[\",\".join(pow_win)] += 1\n",
    "#         winner_counts[len(pow_win)] += 1\n",
    "#         for pow1 in pow_win:\n",
    "#             power_wins[pow1] += 1\n",
    "#         no_of_games += 1\n",
    "\n",
    "# for pow1 in power_wins:\n",
    "#     power_wins[pow1] /= no_of_games"
   ]
  },
  {
   "cell_type": "code",
   "execution_count": 20,
   "metadata": {},
   "outputs": [
    {
     "name": "stderr",
     "output_type": "stream",
     "text": [
      "100%|██████████| 100/100 [09:18<00:00,  5.59s/it]\n"
     ]
    }
   ],
   "source": [
    "pows = 'ENGLAND,AUSTRIA,ITALY,FRANCE,GERMANY,RUSSIA,TURKEY'\n",
    "types = 'np,np,np,np,np,np,np'\n",
    "file = \"Random_NoPress_BotGame_\" + suffix + \".json\"\n",
    "runname = 'random_np'\n",
    "\n",
    "execute_scenario(pows, types, file, runname, parent_analysis)"
   ]
  },
  {
   "cell_type": "markdown",
   "metadata": {},
   "source": [
    "# SLP 2 bot game plays"
   ]
  },
  {
   "cell_type": "markdown",
   "metadata": {},
   "source": [
    "## Germany and Italy"
   ]
  },
  {
   "cell_type": "code",
   "execution_count": 21,
   "metadata": {},
   "outputs": [
    {
     "name": "stderr",
     "output_type": "stream",
     "text": [
      "100%|██████████| 100/100 [04:11<00:00,  2.51s/it]\n"
     ]
    }
   ],
   "source": [
    "pows = 'ENGLAND,AUSTRIA,ITALY,FRANCE,GERMANY,RUSSIA,TURKEY'\n",
    "types = 'np,np,lsp,np,lspm,np,np'\n",
    "file = \"Random_LSP_VS_NP_GERM_ITALY_BotGame_\" + suffix + \".json\"\n",
    "runname = 'Germ_Ital_LSP'\n",
    "\n",
    "execute_scenario(pows, types, file, runname, parent_analysis)"
   ]
  },
  {
   "cell_type": "markdown",
   "metadata": {},
   "source": [
    "## Germany and Russia"
   ]
  },
  {
   "cell_type": "code",
   "execution_count": 22,
   "metadata": {},
   "outputs": [
    {
     "name": "stderr",
     "output_type": "stream",
     "text": [
      "100%|██████████| 100/100 [04:21<00:00,  2.62s/it]\n"
     ]
    }
   ],
   "source": [
    "pows = 'ENGLAND,AUSTRIA,ITALY,FRANCE,GERMANY,RUSSIA,TURKEY'\n",
    "types = 'np,np,np,np,lsp,lspm,np'\n",
    "file = \"Random_LSP_VS_NP_RUSS_GERM_BotGame_\" + suffix + \".json\"\n",
    "runname = 'Russ_Germ_LSP'\n",
    "\n",
    "execute_scenario(pows, types, file, runname, parent_analysis)"
   ]
  },
  {
   "cell_type": "markdown",
   "metadata": {},
   "source": [
    "## Austria and Italy"
   ]
  },
  {
   "cell_type": "code",
   "execution_count": 23,
   "metadata": {},
   "outputs": [
    {
     "name": "stderr",
     "output_type": "stream",
     "text": [
      "100%|██████████| 100/100 [04:36<00:00,  2.76s/it]\n"
     ]
    }
   ],
   "source": [
    "pows = 'ENGLAND,AUSTRIA,ITALY,FRANCE,GERMANY,RUSSIA,TURKEY'\n",
    "types = 'np,lspm,lsp,np,np,np,np'\n",
    "file = \"Random_LSP_VS_NP_AUS_ITA_BotGame_\" + suffix + \".json\"\n",
    "runname = 'Aus_Ita_LSP'\n",
    "\n",
    "execute_scenario(pows, types, file, runname, parent_analysis)"
   ]
  },
  {
   "cell_type": "markdown",
   "metadata": {},
   "source": [
    "## England and France"
   ]
  },
  {
   "cell_type": "code",
   "execution_count": 24,
   "metadata": {},
   "outputs": [
    {
     "name": "stderr",
     "output_type": "stream",
     "text": [
      "100%|██████████| 100/100 [05:33<00:00,  3.34s/it]\n"
     ]
    }
   ],
   "source": [
    "pows = 'ENGLAND,AUSTRIA,ITALY,FRANCE,GERMANY,RUSSIA,TURKEY'\n",
    "types = 'lspm,np,np,lsp,np,np,np'\n",
    "file = \"Random_LSP_VS_NP_ENG_FRA_BotGame_\" + suffix + \".json\"\n",
    "runname = 'Eng_Fra_LSP'\n",
    "\n",
    "execute_scenario(pows, types, file, runname, parent_analysis)"
   ]
  },
  {
   "cell_type": "markdown",
   "metadata": {},
   "source": [
    "## England and Austria"
   ]
  },
  {
   "cell_type": "code",
   "execution_count": 25,
   "metadata": {},
   "outputs": [
    {
     "name": "stderr",
     "output_type": "stream",
     "text": [
      "100%|██████████| 100/100 [03:20<00:00,  2.01s/it]\n"
     ]
    }
   ],
   "source": [
    "pows = 'ENGLAND,AUSTRIA,ITALY,FRANCE,GERMANY,RUSSIA,TURKEY'\n",
    "types = 'lspm,lsp,np,np,np,np,np'\n",
    "file = \"Random_LSP_VS_NP_ENG_AUS_BotGame_\" + suffix + \".json\"\n",
    "runname = 'Eng_Aus_LSP'\n",
    "\n",
    "execute_scenario(pows, types, file, runname, parent_analysis)"
   ]
  },
  {
   "cell_type": "markdown",
   "metadata": {},
   "source": [
    "# England and Turkey"
   ]
  },
  {
   "cell_type": "code",
   "execution_count": 26,
   "metadata": {},
   "outputs": [
    {
     "name": "stderr",
     "output_type": "stream",
     "text": [
      "100%|██████████| 100/100 [09:33<00:00,  5.74s/it]\n"
     ]
    }
   ],
   "source": [
    "pows = 'ENGLAND,AUSTRIA,ITALY,FRANCE,GERMANY,RUSSIA,TURKEY'\n",
    "types = 'lspm,np,np,np,np,np,lsp'\n",
    "file = \"Random_LSP_VS_NP_ENG_TUR_BotGame_\" + suffix + \".json\"\n",
    "runname = 'Eng_Tur_LSP'\n",
    "\n",
    "execute_scenario(pows, types, file, runname, parent_analysis)"
   ]
  },
  {
   "cell_type": "markdown",
   "metadata": {},
   "source": [
    "# Turkey and England"
   ]
  },
  {
   "cell_type": "code",
   "execution_count": 27,
   "metadata": {},
   "outputs": [
    {
     "name": "stderr",
     "output_type": "stream",
     "text": [
      "100%|██████████| 100/100 [08:27<00:00,  5.08s/it]\n"
     ]
    }
   ],
   "source": [
    "pows = 'ENGLAND,AUSTRIA,ITALY,FRANCE,GERMANY,RUSSIA,TURKEY'\n",
    "types = 'lsp,np,np,np,np,np,lspm'\n",
    "file = \"Random_LSP_VS_NP_TUR_ENG_BotGame_\" + suffix + \".json\"\n",
    "runname = 'Tur_Eng_LSP'\n",
    "\n",
    "execute_scenario(pows, types, file, runname, parent_analysis)"
   ]
  },
  {
   "cell_type": "markdown",
   "metadata": {},
   "source": [
    "# Summary"
   ]
  },
  {
   "cell_type": "code",
   "execution_count": 28,
   "metadata": {
    "scrolled": false
   },
   "outputs": [
    {
     "data": {
      "text/plain": [
       "[('random_np',\n",
       "  defaultdict(int,\n",
       "              {'AUS': 52,\n",
       "               'ENG': 44,\n",
       "               'GER': 43,\n",
       "               'ITA': 36,\n",
       "               'RUS': 59,\n",
       "               'FRA': 52,\n",
       "               'TUR': 53}),\n",
       "  defaultdict(int,\n",
       "              {'AUS': 14, 'TUR': 1, 'GER': 4, 'FRA': 3, 'ITA': 1, 'RUS': 15}),\n",
       "  defaultdict(int,\n",
       "              {'AUS': 38,\n",
       "               'ENG': 44,\n",
       "               'GER': 39,\n",
       "               'ITA': 35,\n",
       "               'RUS': 44,\n",
       "               'FRA': 49,\n",
       "               'TUR': 52}),\n",
       "  defaultdict(int,\n",
       "              {'AUS': 74.28571428571429,\n",
       "               'TUR': 85.0,\n",
       "               'GER': 62.25,\n",
       "               'FRA': 76.66666666666667,\n",
       "               'ITA': 69.0,\n",
       "               'RUS': 62.2}),\n",
       "  defaultdict(int,\n",
       "              {'AUS': 100.0,\n",
       "               'ENG': 100.0,\n",
       "               'GER': 100.0,\n",
       "               'ITA': 100.0,\n",
       "               'RUS': 100.0,\n",
       "               'FRA': 100.0,\n",
       "               'TUR': 100.0})),\n",
       " ('Germ_Ital_LSP',\n",
       "  defaultdict(int, {'GER': 77, 'ITA': 23}),\n",
       "  defaultdict(int, {'GER': 77, 'ITA': 23}),\n",
       "  defaultdict(int, {}),\n",
       "  defaultdict(int, {'GER': 34.1948051948052, 'ITA': 42.608695652173914}),\n",
       "  defaultdict(int, {})),\n",
       " ('Russ_Germ_LSP',\n",
       "  defaultdict(int, {'RUS': 51, 'GER': 49}),\n",
       "  defaultdict(int, {'RUS': 51, 'GER': 49}),\n",
       "  defaultdict(int, {}),\n",
       "  defaultdict(int, {'RUS': 31.19607843137255, 'GER': 31.285714285714285}),\n",
       "  defaultdict(int, {})),\n",
       " ('Aus_Ita_LSP',\n",
       "  defaultdict(int, {'AUS': 89, 'ITA': 11, 'RUS': 3, 'FRA': 1, 'TUR': 1}),\n",
       "  defaultdict(int, {'AUS': 88, 'ITA': 9, 'RUS': 1}),\n",
       "  defaultdict(int, {'AUS': 1, 'ITA': 2, 'RUS': 2, 'FRA': 1, 'TUR': 1}),\n",
       "  defaultdict(int,\n",
       "              {'AUS': 31.84090909090909,\n",
       "               'ITA': 60.111111111111114,\n",
       "               'RUS': 71.0}),\n",
       "  defaultdict(int,\n",
       "              {'AUS': 100.0,\n",
       "               'ITA': 100.0,\n",
       "               'RUS': 100.0,\n",
       "               'FRA': 100.0,\n",
       "               'TUR': 100.0})),\n",
       " ('Eng_Fra_LSP',\n",
       "  defaultdict(int,\n",
       "              {'FRA': 97,\n",
       "               'AUS': 6,\n",
       "               'ENG': 6,\n",
       "               'RUS': 2,\n",
       "               'TUR': 6,\n",
       "               'GER': 2,\n",
       "               'ITA': 1}),\n",
       "  defaultdict(int, {'FRA': 91, 'AUS': 2, 'RUS': 1}),\n",
       "  defaultdict(int,\n",
       "              {'ENG': 6,\n",
       "               'FRA': 6,\n",
       "               'RUS': 1,\n",
       "               'TUR': 6,\n",
       "               'AUS': 4,\n",
       "               'GER': 2,\n",
       "               'ITA': 1}),\n",
       "  defaultdict(int, {'FRA': 45.16483516483517, 'AUS': 65.0, 'RUS': 33.0}),\n",
       "  defaultdict(int,\n",
       "              {'ENG': 100.0,\n",
       "               'FRA': 100.0,\n",
       "               'RUS': 100.0,\n",
       "               'TUR': 100.0,\n",
       "               'AUS': 100.0,\n",
       "               'GER': 100.0,\n",
       "               'ITA': 100.0})),\n",
       " ('Eng_Aus_LSP',\n",
       "  defaultdict(int,\n",
       "              {'AUS': 98,\n",
       "               'ENG': 2,\n",
       "               'GER': 1,\n",
       "               'ITA': 2,\n",
       "               'TUR': 2,\n",
       "               'FRA': 1,\n",
       "               'RUS': 1}),\n",
       "  defaultdict(int, {'AUS': 98}),\n",
       "  defaultdict(int,\n",
       "              {'ENG': 2, 'GER': 1, 'ITA': 2, 'TUR': 2, 'FRA': 1, 'RUS': 1}),\n",
       "  defaultdict(int, {'AUS': 26.23469387755102}),\n",
       "  defaultdict(int,\n",
       "              {'ENG': 100.0,\n",
       "               'GER': 100.0,\n",
       "               'ITA': 100.0,\n",
       "               'TUR': 100.0,\n",
       "               'FRA': 100.0,\n",
       "               'RUS': 100.0})),\n",
       " ('Eng_Tur_LSP',\n",
       "  defaultdict(int,\n",
       "              {'TUR': 92,\n",
       "               'ENG': 59,\n",
       "               'FRA': 39,\n",
       "               'RUS': 22,\n",
       "               'GER': 20,\n",
       "               'ITA': 26,\n",
       "               'AUS': 36}),\n",
       "  defaultdict(int, {'TUR': 36, 'ENG': 2, 'RUS': 1, 'AUS': 3, 'FRA': 1}),\n",
       "  defaultdict(int,\n",
       "              {'ENG': 57,\n",
       "               'FRA': 38,\n",
       "               'RUS': 21,\n",
       "               'TUR': 56,\n",
       "               'GER': 20,\n",
       "               'ITA': 26,\n",
       "               'AUS': 33}),\n",
       "  defaultdict(int,\n",
       "              {'TUR': 62.44444444444444,\n",
       "               'ENG': 81.5,\n",
       "               'RUS': 59.0,\n",
       "               'AUS': 94.0,\n",
       "               'FRA': 95.0}),\n",
       "  defaultdict(int,\n",
       "              {'ENG': 100.0,\n",
       "               'FRA': 100.0,\n",
       "               'RUS': 100.0,\n",
       "               'TUR': 100.0,\n",
       "               'GER': 100.0,\n",
       "               'ITA': 100.0,\n",
       "               'AUS': 100.0})),\n",
       " ('Tur_Eng_LSP',\n",
       "  defaultdict(int,\n",
       "              {'GER': 31,\n",
       "               'AUS': 34,\n",
       "               'ENG': 43,\n",
       "               'FRA': 31,\n",
       "               'ITA': 22,\n",
       "               'RUS': 28,\n",
       "               'TUR': 61}),\n",
       "  defaultdict(int,\n",
       "              {'GER': 13, 'TUR': 20, 'RUS': 6, 'AUS': 7, 'ENG': 2, 'FRA': 7}),\n",
       "  defaultdict(int,\n",
       "              {'AUS': 27,\n",
       "               'ENG': 41,\n",
       "               'FRA': 24,\n",
       "               'ITA': 22,\n",
       "               'RUS': 22,\n",
       "               'TUR': 41,\n",
       "               'GER': 18}),\n",
       "  defaultdict(int,\n",
       "              {'GER': 74.23076923076923,\n",
       "               'TUR': 63.25,\n",
       "               'RUS': 76.83333333333333,\n",
       "               'AUS': 73.0,\n",
       "               'ENG': 77.0,\n",
       "               'FRA': 79.42857142857143}),\n",
       "  defaultdict(int,\n",
       "              {'AUS': 100.0,\n",
       "               'ENG': 100.0,\n",
       "               'FRA': 100.0,\n",
       "               'ITA': 100.0,\n",
       "               'RUS': 100.0,\n",
       "               'TUR': 100.0,\n",
       "               'GER': 100.0}))]"
      ]
     },
     "execution_count": 28,
     "metadata": {},
     "output_type": "execute_result"
    }
   ],
   "source": [
    "parent_analysis"
   ]
  },
  {
   "cell_type": "code",
   "execution_count": 49,
   "metadata": {},
   "outputs": [],
   "source": [
    "rows = []\n",
    "pows = 'ENG,AUS,ITA,FRA,GER,RUS,TUR'.split(\",\")\n",
    "for col in parent_analysis:\n",
    "    for i in range(1, len(col)):\n",
    "        for pow1 in pows:\n",
    "            rows.append([pow1, col[0], i, col[i][pow1]])"
   ]
  },
  {
   "cell_type": "code",
   "execution_count": 51,
   "metadata": {},
   "outputs": [],
   "source": [
    "# cols = []\n",
    "# for col in parent_analysis:\n",
    "#     for i in range(1, len(col)):\n",
    "#         cols.append(col[0]+str(i))\n",
    "pd.DataFrame(rows, columns=['power', 'scenario', 'key', 'val']).to_csv('n_comms_game_analysis_2022_03_31-01:13:13.csv')"
   ]
  },
  {
   "cell_type": "code",
   "execution_count": null,
   "metadata": {},
   "outputs": [],
   "source": []
  },
  {
   "cell_type": "code",
   "execution_count": null,
   "metadata": {},
   "outputs": [],
   "source": []
  },
  {
   "cell_type": "markdown",
   "metadata": {},
   "source": [
    "# Past Setup Analysis"
   ]
  },
  {
   "cell_type": "code",
   "execution_count": 55,
   "metadata": {},
   "outputs": [
    {
     "data": {
      "text/html": [
       "<div>\n",
       "<style scoped>\n",
       "    .dataframe tbody tr th:only-of-type {\n",
       "        vertical-align: middle;\n",
       "    }\n",
       "\n",
       "    .dataframe tbody tr th {\n",
       "        vertical-align: top;\n",
       "    }\n",
       "\n",
       "    .dataframe thead th {\n",
       "        text-align: right;\n",
       "    }\n",
       "</style>\n",
       "<table border=\"1\" class=\"dataframe\">\n",
       "  <thead>\n",
       "    <tr style=\"text-align: right;\">\n",
       "      <th></th>\n",
       "      <th>total</th>\n",
       "      <th>solo</th>\n",
       "      <th>shared</th>\n",
       "      <th>solo_dur</th>\n",
       "      <th>shared_dur</th>\n",
       "    </tr>\n",
       "  </thead>\n",
       "  <tbody>\n",
       "    <tr>\n",
       "      <th>ENG</th>\n",
       "      <td>51</td>\n",
       "      <td>0</td>\n",
       "      <td>51</td>\n",
       "      <td>0.00</td>\n",
       "      <td>100.0</td>\n",
       "    </tr>\n",
       "    <tr>\n",
       "      <th>AUS</th>\n",
       "      <td>54</td>\n",
       "      <td>10</td>\n",
       "      <td>44</td>\n",
       "      <td>63.50</td>\n",
       "      <td>100.0</td>\n",
       "    </tr>\n",
       "    <tr>\n",
       "      <th>ITA</th>\n",
       "      <td>38</td>\n",
       "      <td>0</td>\n",
       "      <td>38</td>\n",
       "      <td>0.00</td>\n",
       "      <td>100.0</td>\n",
       "    </tr>\n",
       "    <tr>\n",
       "      <th>FRA</th>\n",
       "      <td>57</td>\n",
       "      <td>4</td>\n",
       "      <td>53</td>\n",
       "      <td>75.75</td>\n",
       "      <td>100.0</td>\n",
       "    </tr>\n",
       "    <tr>\n",
       "      <th>GER</th>\n",
       "      <td>49</td>\n",
       "      <td>5</td>\n",
       "      <td>44</td>\n",
       "      <td>65.40</td>\n",
       "      <td>100.0</td>\n",
       "    </tr>\n",
       "    <tr>\n",
       "      <th>RUS</th>\n",
       "      <td>52</td>\n",
       "      <td>12</td>\n",
       "      <td>40</td>\n",
       "      <td>62.50</td>\n",
       "      <td>100.0</td>\n",
       "    </tr>\n",
       "    <tr>\n",
       "      <th>TUR</th>\n",
       "      <td>59</td>\n",
       "      <td>2</td>\n",
       "      <td>57</td>\n",
       "      <td>87.00</td>\n",
       "      <td>100.0</td>\n",
       "    </tr>\n",
       "  </tbody>\n",
       "</table>\n",
       "</div>"
      ],
      "text/plain": [
       "     total  solo  shared  solo_dur  shared_dur\n",
       "ENG     51     0      51      0.00       100.0\n",
       "AUS     54    10      44     63.50       100.0\n",
       "ITA     38     0      38      0.00       100.0\n",
       "FRA     57     4      53     75.75       100.0\n",
       "GER     49     5      44     65.40       100.0\n",
       "RUS     52    12      40     62.50       100.0\n",
       "TUR     59     2      57     87.00       100.0"
      ]
     },
     "execution_count": 55,
     "metadata": {},
     "output_type": "execute_result"
    }
   ],
   "source": [
    "def temp(file):\n",
    "    file = \"GameAnalysisFiles/\" + file\n",
    "    power_total_wins = defaultdict(int)\n",
    "    power_solo_wins = defaultdict(int)\n",
    "    power_shared_wins = defaultdict(int)\n",
    "    power_solo_durations = defaultdict(int)\n",
    "    power_shared_durations = defaultdict(int)\n",
    "\n",
    "    no_of_games = 0\n",
    "    with open(file) as f:\n",
    "        for line in f:\n",
    "            game = json.loads(line)\n",
    "            winners = [pow1.strip() for pow1 in game['phases'][-1]['state']['note'].split(\":\")[-1].split(\",\")]\n",
    "            for pow1 in winners:\n",
    "                power_total_wins[pow1] += 1\n",
    "            if len(winners) == 1:\n",
    "                power_solo_wins[winners[0]] += 1\n",
    "                power_solo_durations[winners[0]] += int(game['phases'][-2]['name'][1:-1]) - 1900\n",
    "            else:\n",
    "                for pow1 in winners:\n",
    "                    power_shared_wins[pow1] += 1\n",
    "                    power_shared_durations[pow1] += int(game['phases'][-2]['name'][1:-1]) - 1900\n",
    "    for pow1 in power_solo_durations:\n",
    "        power_solo_durations[pow1] /= power_solo_wins[pow1]\n",
    "    for pow1 in power_shared_durations:\n",
    "        power_shared_durations[pow1] /= power_shared_wins[pow1]\n",
    "    \n",
    "#     print(power_total_wins, power_solo_wins, power_shared_wins, power_solo_durations, power_shared_durations)\n",
    "    rows = defaultdict(list)\n",
    "    for col in power_total_wins, power_solo_wins, power_shared_wins, power_solo_durations, power_shared_durations:\n",
    "        for pow in pows:\n",
    "            rows[pow].append(col[pow])\n",
    "    temp = pd.DataFrame.from_dict(rows, orient='index', columns=['total', 'solo', 'shared', 'solo_dur', 'shared_dur'])\n",
    "    temp.to_clipboard()\n",
    "    return temp\n",
    "\n",
    "temp(\"RandomNoPressBotGame.json\")"
   ]
  },
  {
   "cell_type": "code",
   "execution_count": null,
   "metadata": {},
   "outputs": [],
   "source": []
  }
 ],
 "metadata": {
  "kernelspec": {
   "display_name": "diplomacy",
   "language": "python",
   "name": "diplomacy"
  },
  "language_info": {
   "codemirror_mode": {
    "name": "ipython",
    "version": 3
   },
   "file_extension": ".py",
   "mimetype": "text/x-python",
   "name": "python",
   "nbconvert_exporter": "python",
   "pygments_lexer": "ipython3",
   "version": "3.8.5"
  }
 },
 "nbformat": 4,
 "nbformat_minor": 1
}
